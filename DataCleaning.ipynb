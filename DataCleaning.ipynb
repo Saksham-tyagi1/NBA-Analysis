{
  "cells": [
    {
      "cell_type": "markdown",
      "metadata": {
        "id": "view-in-github",
        "colab_type": "text"
      },
      "source": [
        "<a href=\"https://colab.research.google.com/github/Saksham-tyagi1/NBA-Analysis/blob/main/DataCleaning.ipynb\" target=\"_parent\"><img src=\"https://colab.research.google.com/assets/colab-badge.svg\" alt=\"Open In Colab\"/></a>"
      ]
    },
    {
      "cell_type": "code",
      "execution_count": null,
      "metadata": {
        "id": "wlmEVQB5SaiF"
      },
      "outputs": [],
      "source": [
        "import numpy as np\n",
        "import pandas as pd\n",
        "import os\n",
        "from sklearn.preprocessing import StandardScaler\n",
        "pd.set_option('display.max_columns', None)\n",
        "pd.set_option('display.max_rows',100)\n",
        "pd.set_option(\"display.max_colwidth\", 1)"
      ]
    },
    {
      "cell_type": "code",
      "execution_count": null,
      "metadata": {
        "colab": {
          "base_uri": "https://localhost:8080/"
        },
        "id": "yGQujgia0vAG",
        "outputId": "bd78e51a-dd50-4063-cc85-21bbfd914b56"
      },
      "outputs": [
        {
          "output_type": "stream",
          "name": "stdout",
          "text": [
            "Mounted at /content/drive\n"
          ]
        }
      ],
      "source": [
        "from google.colab import drive\n",
        "drive.mount('/content/drive')\n"
      ]
    },
    {
      "cell_type": "code",
      "execution_count": null,
      "metadata": {
        "colab": {
          "background_save": true,
          "base_uri": "https://localhost:8080/"
        },
        "collapsed": true,
        "id": "yw7ll6UYHEst",
        "outputId": "4c64f4b9-bb42-4a05-d6d0-d8f38495b89a"
      },
      "outputs": [
        {
          "name": "stdout",
          "output_type": "stream",
          "text": [
            "Found 12 files to merge: ['season_2023-24_chunk_0.csv', 'season_2023-24_chunk_1.csv', 'season_2023-24_chunk_10.csv', 'season_2023-24_chunk_11.csv', 'season_2023-24_chunk_2.csv', 'season_2023-24_chunk_3.csv', 'season_2023-24_chunk_4.csv', 'season_2023-24_chunk_5.csv', 'season_2023-24_chunk_6.csv', 'season_2023-24_chunk_7.csv', 'season_2023-24_chunk_8.csv', 'season_2023-24_chunk_9.csv']\n"
          ]
        },
        {
          "name": "stderr",
          "output_type": "stream",
          "text": [
            "<ipython-input-3-65a1eeaaf6ad>:16: DtypeWarning: Columns (6,7,58) have mixed types. Specify dtype option on import or set low_memory=False.\n",
            "  df_list = [pd.read_csv(os.path.join(folder_path, file)) for file in file_list]\n",
            "<ipython-input-3-65a1eeaaf6ad>:16: DtypeWarning: Columns (6,7,33) have mixed types. Specify dtype option on import or set low_memory=False.\n",
            "  df_list = [pd.read_csv(os.path.join(folder_path, file)) for file in file_list]\n",
            "<ipython-input-3-65a1eeaaf6ad>:16: DtypeWarning: Columns (6,7,58) have mixed types. Specify dtype option on import or set low_memory=False.\n",
            "  df_list = [pd.read_csv(os.path.join(folder_path, file)) for file in file_list]\n",
            "<ipython-input-3-65a1eeaaf6ad>:16: DtypeWarning: Columns (6,7,33,58) have mixed types. Specify dtype option on import or set low_memory=False.\n",
            "  df_list = [pd.read_csv(os.path.join(folder_path, file)) for file in file_list]\n",
            "<ipython-input-3-65a1eeaaf6ad>:16: DtypeWarning: Columns (6,7,58) have mixed types. Specify dtype option on import or set low_memory=False.\n",
            "  df_list = [pd.read_csv(os.path.join(folder_path, file)) for file in file_list]\n",
            "<ipython-input-3-65a1eeaaf6ad>:16: DtypeWarning: Columns (6,7,58) have mixed types. Specify dtype option on import or set low_memory=False.\n",
            "  df_list = [pd.read_csv(os.path.join(folder_path, file)) for file in file_list]\n",
            "<ipython-input-3-65a1eeaaf6ad>:16: DtypeWarning: Columns (6,7,58) have mixed types. Specify dtype option on import or set low_memory=False.\n",
            "  df_list = [pd.read_csv(os.path.join(folder_path, file)) for file in file_list]\n",
            "<ipython-input-3-65a1eeaaf6ad>:16: DtypeWarning: Columns (6,7,33,58) have mixed types. Specify dtype option on import or set low_memory=False.\n",
            "  df_list = [pd.read_csv(os.path.join(folder_path, file)) for file in file_list]\n",
            "<ipython-input-3-65a1eeaaf6ad>:16: DtypeWarning: Columns (6,7,58) have mixed types. Specify dtype option on import or set low_memory=False.\n",
            "  df_list = [pd.read_csv(os.path.join(folder_path, file)) for file in file_list]\n",
            "<ipython-input-3-65a1eeaaf6ad>:16: DtypeWarning: Columns (6,7,58) have mixed types. Specify dtype option on import or set low_memory=False.\n",
            "  df_list = [pd.read_csv(os.path.join(folder_path, file)) for file in file_list]\n"
          ]
        },
        {
          "name": "stdout",
          "output_type": "stream",
          "text": [
            "Merging completed successfully.\n"
          ]
        },
        {
          "name": "stderr",
          "output_type": "stream",
          "text": [
            "<ipython-input-3-65a1eeaaf6ad>:33: SettingWithCopyWarning: \n",
            "A value is trying to be set on a copy of a slice from a DataFrame.\n",
            "Try using .loc[row_indexer,col_indexer] = value instead\n",
            "\n",
            "See the caveats in the documentation: https://pandas.pydata.org/pandas-docs/stable/user_guide/indexing.html#returning-a-view-versus-a-copy\n",
            "  df[int_columns] = df[int_columns].apply(pd.to_numeric, downcast='integer')\n",
            "<ipython-input-3-65a1eeaaf6ad>:36: SettingWithCopyWarning: \n",
            "A value is trying to be set on a copy of a slice from a DataFrame.\n",
            "Try using .loc[row_indexer,col_indexer] = value instead\n",
            "\n",
            "See the caveats in the documentation: https://pandas.pydata.org/pandas-docs/stable/user_guide/indexing.html#returning-a-view-versus-a-copy\n",
            "  df[float_columns] = df[float_columns].apply(pd.to_numeric, downcast='float')\n",
            "<ipython-input-3-65a1eeaaf6ad>:70: SettingWithCopyWarning: \n",
            "A value is trying to be set on a copy of a slice from a DataFrame.\n",
            "Try using .loc[row_indexer,col_indexer] = value instead\n",
            "\n",
            "See the caveats in the documentation: https://pandas.pydata.org/pandas-docs/stable/user_guide/indexing.html#returning-a-view-versus-a-copy\n",
            "  filtered_extracted_df['GAME_ID'] = filtered_extracted_df['GAME_ID'].astype(str)\n",
            "<ipython-input-3-65a1eeaaf6ad>:71: SettingWithCopyWarning: \n",
            "A value is trying to be set on a copy of a slice from a DataFrame.\n",
            "Try using .loc[row_indexer,col_indexer] = value instead\n",
            "\n",
            "See the caveats in the documentation: https://pandas.pydata.org/pandas-docs/stable/user_guide/indexing.html#returning-a-view-versus-a-copy\n",
            "  filtered_extracted_df['PLAYER_ID'] = filtered_extracted_df['PLAYER_ID'].astype(int)\n"
          ]
        },
        {
          "name": "stdout",
          "output_type": "stream",
          "text": [
            "Completed merging. Full dataset saved to complete_merged_shot_data.csv\n"
          ]
        },
        {
          "name": "stderr",
          "output_type": "stream",
          "text": [
            "<ipython-input-3-65a1eeaaf6ad>:98: DtypeWarning: Columns (43) have mixed types. Specify dtype option on import or set low_memory=False.\n",
            "  for chunk in chunks:\n",
            "<ipython-input-3-65a1eeaaf6ad>:98: DtypeWarning: Columns (43) have mixed types. Specify dtype option on import or set low_memory=False.\n",
            "  for chunk in chunks:\n",
            "<ipython-input-3-65a1eeaaf6ad>:98: DtypeWarning: Columns (43) have mixed types. Specify dtype option on import or set low_memory=False.\n",
            "  for chunk in chunks:\n",
            "<ipython-input-3-65a1eeaaf6ad>:98: DtypeWarning: Columns (43) have mixed types. Specify dtype option on import or set low_memory=False.\n",
            "  for chunk in chunks:\n",
            "<ipython-input-3-65a1eeaaf6ad>:98: DtypeWarning: Columns (43) have mixed types. Specify dtype option on import or set low_memory=False.\n",
            "  for chunk in chunks:\n",
            "<ipython-input-3-65a1eeaaf6ad>:98: DtypeWarning: Columns (43) have mixed types. Specify dtype option on import or set low_memory=False.\n",
            "  for chunk in chunks:\n",
            "<ipython-input-3-65a1eeaaf6ad>:98: DtypeWarning: Columns (43) have mixed types. Specify dtype option on import or set low_memory=False.\n",
            "  for chunk in chunks:\n",
            "<ipython-input-3-65a1eeaaf6ad>:98: DtypeWarning: Columns (43) have mixed types. Specify dtype option on import or set low_memory=False.\n",
            "  for chunk in chunks:\n",
            "<ipython-input-3-65a1eeaaf6ad>:98: DtypeWarning: Columns (43) have mixed types. Specify dtype option on import or set low_memory=False.\n",
            "  for chunk in chunks:\n",
            "<ipython-input-3-65a1eeaaf6ad>:98: DtypeWarning: Columns (43) have mixed types. Specify dtype option on import or set low_memory=False.\n",
            "  for chunk in chunks:\n",
            "<ipython-input-3-65a1eeaaf6ad>:98: DtypeWarning: Columns (43) have mixed types. Specify dtype option on import or set low_memory=False.\n",
            "  for chunk in chunks:\n",
            "<ipython-input-3-65a1eeaaf6ad>:98: DtypeWarning: Columns (43) have mixed types. Specify dtype option on import or set low_memory=False.\n",
            "  for chunk in chunks:\n",
            "<ipython-input-3-65a1eeaaf6ad>:98: DtypeWarning: Columns (43) have mixed types. Specify dtype option on import or set low_memory=False.\n",
            "  for chunk in chunks:\n",
            "<ipython-input-3-65a1eeaaf6ad>:98: DtypeWarning: Columns (43) have mixed types. Specify dtype option on import or set low_memory=False.\n",
            "  for chunk in chunks:\n",
            "<ipython-input-3-65a1eeaaf6ad>:98: DtypeWarning: Columns (43) have mixed types. Specify dtype option on import or set low_memory=False.\n",
            "  for chunk in chunks:\n",
            "<ipython-input-3-65a1eeaaf6ad>:98: DtypeWarning: Columns (43) have mixed types. Specify dtype option on import or set low_memory=False.\n",
            "  for chunk in chunks:\n",
            "<ipython-input-3-65a1eeaaf6ad>:98: DtypeWarning: Columns (43) have mixed types. Specify dtype option on import or set low_memory=False.\n",
            "  for chunk in chunks:\n",
            "<ipython-input-3-65a1eeaaf6ad>:98: DtypeWarning: Columns (43) have mixed types. Specify dtype option on import or set low_memory=False.\n",
            "  for chunk in chunks:\n",
            "<ipython-input-3-65a1eeaaf6ad>:98: DtypeWarning: Columns (43) have mixed types. Specify dtype option on import or set low_memory=False.\n",
            "  for chunk in chunks:\n",
            "<ipython-input-3-65a1eeaaf6ad>:98: DtypeWarning: Columns (43) have mixed types. Specify dtype option on import or set low_memory=False.\n",
            "  for chunk in chunks:\n",
            "<ipython-input-3-65a1eeaaf6ad>:98: DtypeWarning: Columns (43) have mixed types. Specify dtype option on import or set low_memory=False.\n",
            "  for chunk in chunks:\n",
            "<ipython-input-3-65a1eeaaf6ad>:98: DtypeWarning: Columns (43) have mixed types. Specify dtype option on import or set low_memory=False.\n",
            "  for chunk in chunks:\n",
            "<ipython-input-3-65a1eeaaf6ad>:98: DtypeWarning: Columns (43) have mixed types. Specify dtype option on import or set low_memory=False.\n",
            "  for chunk in chunks:\n",
            "<ipython-input-3-65a1eeaaf6ad>:98: DtypeWarning: Columns (43) have mixed types. Specify dtype option on import or set low_memory=False.\n",
            "  for chunk in chunks:\n",
            "<ipython-input-3-65a1eeaaf6ad>:98: DtypeWarning: Columns (43) have mixed types. Specify dtype option on import or set low_memory=False.\n",
            "  for chunk in chunks:\n",
            "<ipython-input-3-65a1eeaaf6ad>:98: DtypeWarning: Columns (43) have mixed types. Specify dtype option on import or set low_memory=False.\n",
            "  for chunk in chunks:\n",
            "<ipython-input-3-65a1eeaaf6ad>:98: DtypeWarning: Columns (43) have mixed types. Specify dtype option on import or set low_memory=False.\n",
            "  for chunk in chunks:\n",
            "<ipython-input-3-65a1eeaaf6ad>:98: DtypeWarning: Columns (43) have mixed types. Specify dtype option on import or set low_memory=False.\n",
            "  for chunk in chunks:\n",
            "<ipython-input-3-65a1eeaaf6ad>:98: DtypeWarning: Columns (43) have mixed types. Specify dtype option on import or set low_memory=False.\n",
            "  for chunk in chunks:\n",
            "<ipython-input-3-65a1eeaaf6ad>:98: DtypeWarning: Columns (43) have mixed types. Specify dtype option on import or set low_memory=False.\n",
            "  for chunk in chunks:\n",
            "<ipython-input-3-65a1eeaaf6ad>:98: DtypeWarning: Columns (43) have mixed types. Specify dtype option on import or set low_memory=False.\n",
            "  for chunk in chunks:\n",
            "<ipython-input-3-65a1eeaaf6ad>:98: DtypeWarning: Columns (43) have mixed types. Specify dtype option on import or set low_memory=False.\n",
            "  for chunk in chunks:\n",
            "<ipython-input-3-65a1eeaaf6ad>:98: DtypeWarning: Columns (43) have mixed types. Specify dtype option on import or set low_memory=False.\n",
            "  for chunk in chunks:\n",
            "<ipython-input-3-65a1eeaaf6ad>:98: DtypeWarning: Columns (43) have mixed types. Specify dtype option on import or set low_memory=False.\n",
            "  for chunk in chunks:\n",
            "<ipython-input-3-65a1eeaaf6ad>:98: DtypeWarning: Columns (43) have mixed types. Specify dtype option on import or set low_memory=False.\n",
            "  for chunk in chunks:\n",
            "<ipython-input-3-65a1eeaaf6ad>:98: DtypeWarning: Columns (43) have mixed types. Specify dtype option on import or set low_memory=False.\n",
            "  for chunk in chunks:\n",
            "<ipython-input-3-65a1eeaaf6ad>:98: DtypeWarning: Columns (43) have mixed types. Specify dtype option on import or set low_memory=False.\n",
            "  for chunk in chunks:\n",
            "<ipython-input-3-65a1eeaaf6ad>:98: DtypeWarning: Columns (43) have mixed types. Specify dtype option on import or set low_memory=False.\n",
            "  for chunk in chunks:\n",
            "<ipython-input-3-65a1eeaaf6ad>:98: DtypeWarning: Columns (43) have mixed types. Specify dtype option on import or set low_memory=False.\n",
            "  for chunk in chunks:\n",
            "<ipython-input-3-65a1eeaaf6ad>:98: DtypeWarning: Columns (43) have mixed types. Specify dtype option on import or set low_memory=False.\n",
            "  for chunk in chunks:\n",
            "<ipython-input-3-65a1eeaaf6ad>:98: DtypeWarning: Columns (43) have mixed types. Specify dtype option on import or set low_memory=False.\n",
            "  for chunk in chunks:\n",
            "<ipython-input-3-65a1eeaaf6ad>:98: DtypeWarning: Columns (43) have mixed types. Specify dtype option on import or set low_memory=False.\n",
            "  for chunk in chunks:\n",
            "<ipython-input-3-65a1eeaaf6ad>:98: DtypeWarning: Columns (43) have mixed types. Specify dtype option on import or set low_memory=False.\n",
            "  for chunk in chunks:\n",
            "<ipython-input-3-65a1eeaaf6ad>:98: DtypeWarning: Columns (43) have mixed types. Specify dtype option on import or set low_memory=False.\n",
            "  for chunk in chunks:\n",
            "<ipython-input-3-65a1eeaaf6ad>:98: DtypeWarning: Columns (43) have mixed types. Specify dtype option on import or set low_memory=False.\n",
            "  for chunk in chunks:\n",
            "<ipython-input-3-65a1eeaaf6ad>:98: DtypeWarning: Columns (43) have mixed types. Specify dtype option on import or set low_memory=False.\n",
            "  for chunk in chunks:\n",
            "<ipython-input-3-65a1eeaaf6ad>:98: DtypeWarning: Columns (43) have mixed types. Specify dtype option on import or set low_memory=False.\n",
            "  for chunk in chunks:\n",
            "<ipython-input-3-65a1eeaaf6ad>:98: DtypeWarning: Columns (43) have mixed types. Specify dtype option on import or set low_memory=False.\n",
            "  for chunk in chunks:\n",
            "<ipython-input-3-65a1eeaaf6ad>:98: DtypeWarning: Columns (43) have mixed types. Specify dtype option on import or set low_memory=False.\n",
            "  for chunk in chunks:\n",
            "<ipython-input-3-65a1eeaaf6ad>:98: DtypeWarning: Columns (43) have mixed types. Specify dtype option on import or set low_memory=False.\n",
            "  for chunk in chunks:\n",
            "<ipython-input-3-65a1eeaaf6ad>:98: DtypeWarning: Columns (43) have mixed types. Specify dtype option on import or set low_memory=False.\n",
            "  for chunk in chunks:\n",
            "<ipython-input-3-65a1eeaaf6ad>:98: DtypeWarning: Columns (43) have mixed types. Specify dtype option on import or set low_memory=False.\n",
            "  for chunk in chunks:\n",
            "<ipython-input-3-65a1eeaaf6ad>:98: DtypeWarning: Columns (43) have mixed types. Specify dtype option on import or set low_memory=False.\n",
            "  for chunk in chunks:\n",
            "<ipython-input-3-65a1eeaaf6ad>:98: DtypeWarning: Columns (43) have mixed types. Specify dtype option on import or set low_memory=False.\n",
            "  for chunk in chunks:\n",
            "<ipython-input-3-65a1eeaaf6ad>:98: DtypeWarning: Columns (43) have mixed types. Specify dtype option on import or set low_memory=False.\n",
            "  for chunk in chunks:\n",
            "<ipython-input-3-65a1eeaaf6ad>:98: DtypeWarning: Columns (43) have mixed types. Specify dtype option on import or set low_memory=False.\n",
            "  for chunk in chunks:\n",
            "<ipython-input-3-65a1eeaaf6ad>:98: DtypeWarning: Columns (43) have mixed types. Specify dtype option on import or set low_memory=False.\n",
            "  for chunk in chunks:\n",
            "<ipython-input-3-65a1eeaaf6ad>:98: DtypeWarning: Columns (43) have mixed types. Specify dtype option on import or set low_memory=False.\n",
            "  for chunk in chunks:\n",
            "<ipython-input-3-65a1eeaaf6ad>:98: DtypeWarning: Columns (43) have mixed types. Specify dtype option on import or set low_memory=False.\n",
            "  for chunk in chunks:\n",
            "<ipython-input-3-65a1eeaaf6ad>:98: DtypeWarning: Columns (43) have mixed types. Specify dtype option on import or set low_memory=False.\n",
            "  for chunk in chunks:\n",
            "<ipython-input-3-65a1eeaaf6ad>:98: DtypeWarning: Columns (43) have mixed types. Specify dtype option on import or set low_memory=False.\n",
            "  for chunk in chunks:\n",
            "<ipython-input-3-65a1eeaaf6ad>:98: DtypeWarning: Columns (43) have mixed types. Specify dtype option on import or set low_memory=False.\n",
            "  for chunk in chunks:\n",
            "<ipython-input-3-65a1eeaaf6ad>:98: DtypeWarning: Columns (43) have mixed types. Specify dtype option on import or set low_memory=False.\n",
            "  for chunk in chunks:\n",
            "<ipython-input-3-65a1eeaaf6ad>:98: DtypeWarning: Columns (43) have mixed types. Specify dtype option on import or set low_memory=False.\n",
            "  for chunk in chunks:\n",
            "<ipython-input-3-65a1eeaaf6ad>:98: DtypeWarning: Columns (43) have mixed types. Specify dtype option on import or set low_memory=False.\n",
            "  for chunk in chunks:\n",
            "<ipython-input-3-65a1eeaaf6ad>:98: DtypeWarning: Columns (43) have mixed types. Specify dtype option on import or set low_memory=False.\n",
            "  for chunk in chunks:\n",
            "<ipython-input-3-65a1eeaaf6ad>:98: DtypeWarning: Columns (43) have mixed types. Specify dtype option on import or set low_memory=False.\n",
            "  for chunk in chunks:\n",
            "<ipython-input-3-65a1eeaaf6ad>:98: DtypeWarning: Columns (43) have mixed types. Specify dtype option on import or set low_memory=False.\n",
            "  for chunk in chunks:\n",
            "<ipython-input-3-65a1eeaaf6ad>:98: DtypeWarning: Columns (43) have mixed types. Specify dtype option on import or set low_memory=False.\n",
            "  for chunk in chunks:\n",
            "<ipython-input-3-65a1eeaaf6ad>:98: DtypeWarning: Columns (43) have mixed types. Specify dtype option on import or set low_memory=False.\n",
            "  for chunk in chunks:\n",
            "<ipython-input-3-65a1eeaaf6ad>:98: DtypeWarning: Columns (43) have mixed types. Specify dtype option on import or set low_memory=False.\n",
            "  for chunk in chunks:\n",
            "<ipython-input-3-65a1eeaaf6ad>:98: DtypeWarning: Columns (43) have mixed types. Specify dtype option on import or set low_memory=False.\n",
            "  for chunk in chunks:\n",
            "<ipython-input-3-65a1eeaaf6ad>:98: DtypeWarning: Columns (43) have mixed types. Specify dtype option on import or set low_memory=False.\n",
            "  for chunk in chunks:\n",
            "<ipython-input-3-65a1eeaaf6ad>:98: DtypeWarning: Columns (43) have mixed types. Specify dtype option on import or set low_memory=False.\n",
            "  for chunk in chunks:\n",
            "<ipython-input-3-65a1eeaaf6ad>:98: DtypeWarning: Columns (43) have mixed types. Specify dtype option on import or set low_memory=False.\n",
            "  for chunk in chunks:\n",
            "<ipython-input-3-65a1eeaaf6ad>:98: DtypeWarning: Columns (43) have mixed types. Specify dtype option on import or set low_memory=False.\n",
            "  for chunk in chunks:\n",
            "<ipython-input-3-65a1eeaaf6ad>:98: DtypeWarning: Columns (43) have mixed types. Specify dtype option on import or set low_memory=False.\n",
            "  for chunk in chunks:\n",
            "<ipython-input-3-65a1eeaaf6ad>:98: DtypeWarning: Columns (43) have mixed types. Specify dtype option on import or set low_memory=False.\n",
            "  for chunk in chunks:\n",
            "<ipython-input-3-65a1eeaaf6ad>:98: DtypeWarning: Columns (43) have mixed types. Specify dtype option on import or set low_memory=False.\n",
            "  for chunk in chunks:\n",
            "<ipython-input-3-65a1eeaaf6ad>:98: DtypeWarning: Columns (43) have mixed types. Specify dtype option on import or set low_memory=False.\n",
            "  for chunk in chunks:\n",
            "<ipython-input-3-65a1eeaaf6ad>:98: DtypeWarning: Columns (43) have mixed types. Specify dtype option on import or set low_memory=False.\n",
            "  for chunk in chunks:\n",
            "<ipython-input-3-65a1eeaaf6ad>:98: DtypeWarning: Columns (43) have mixed types. Specify dtype option on import or set low_memory=False.\n",
            "  for chunk in chunks:\n",
            "<ipython-input-3-65a1eeaaf6ad>:98: DtypeWarning: Columns (43) have mixed types. Specify dtype option on import or set low_memory=False.\n",
            "  for chunk in chunks:\n",
            "<ipython-input-3-65a1eeaaf6ad>:98: DtypeWarning: Columns (43) have mixed types. Specify dtype option on import or set low_memory=False.\n",
            "  for chunk in chunks:\n",
            "<ipython-input-3-65a1eeaaf6ad>:98: DtypeWarning: Columns (43) have mixed types. Specify dtype option on import or set low_memory=False.\n",
            "  for chunk in chunks:\n",
            "<ipython-input-3-65a1eeaaf6ad>:98: DtypeWarning: Columns (43) have mixed types. Specify dtype option on import or set low_memory=False.\n",
            "  for chunk in chunks:\n",
            "<ipython-input-3-65a1eeaaf6ad>:98: DtypeWarning: Columns (43) have mixed types. Specify dtype option on import or set low_memory=False.\n",
            "  for chunk in chunks:\n",
            "<ipython-input-3-65a1eeaaf6ad>:98: DtypeWarning: Columns (43) have mixed types. Specify dtype option on import or set low_memory=False.\n",
            "  for chunk in chunks:\n",
            "<ipython-input-3-65a1eeaaf6ad>:98: DtypeWarning: Columns (43) have mixed types. Specify dtype option on import or set low_memory=False.\n",
            "  for chunk in chunks:\n"
          ]
        },
        {
          "name": "stdout",
          "output_type": "stream",
          "text": [
            "Sample LOC_X values in final merged DataFrame: 0   -0.4\n",
            "1    1.5\n",
            "2   -3.3\n",
            "3   -1.0\n",
            "4   -0.0\n",
            "Name: LOC_X, dtype: float32\n",
            "Sample LOC_Y values in final merged DataFrame: 0    17.450001\n",
            "1    30.549999\n",
            "2    6.550000 \n",
            "3    5.850000 \n",
            "4    6.250000 \n",
            "Name: LOC_Y, dtype: float32\n",
            "Final DataFrame loaded with optimized data types.\n"
          ]
        }
      ],
      "source": [
        "import os\n",
        "import pandas as pd\n",
        "\n",
        "def merge_csv_files(folder_path='/content/drive/MyDrive/NBA_Analysis', file_pattern='season_2023-24_chunk_'):\n",
        "    \"\"\"\n",
        "    Merges multiple CSV files based on a file pattern and returns the merged DataFrame with optimized data types.\n",
        "    \"\"\"\n",
        "    try:\n",
        "        file_list = [f for f in os.listdir(folder_path) if f.startswith(file_pattern) and f.endswith('.csv')]\n",
        "        if not file_list:\n",
        "            print(f\"No files matching the pattern '{file_pattern}' were found in the folder '{folder_path}'.\")\n",
        "            return None\n",
        "\n",
        "        file_list.sort()\n",
        "        print(f\"Found {len(file_list)} files to merge: {file_list}\")\n",
        "        df_list = [pd.read_csv(os.path.join(folder_path, file)) for file in file_list]\n",
        "        final_df = pd.concat(df_list, ignore_index=True)\n",
        "\n",
        "        final_df = optimize_data_types(final_df)\n",
        "\n",
        "        print(\"Merging completed successfully.\")\n",
        "        return final_df\n",
        "\n",
        "    except Exception as e:\n",
        "        print(f\"An error occurred: {e}\")\n",
        "        return None\n",
        "\n",
        "def optimize_data_types(df):\n",
        "    \"\"\"\n",
        "    Optimizes data types to reduce memory usage.\n",
        "    \"\"\"\n",
        "    int_columns = df.select_dtypes(include=['int']).columns\n",
        "    df[int_columns] = df[int_columns].apply(pd.to_numeric, downcast='integer')\n",
        "\n",
        "    float_columns = df.select_dtypes(include=['float']).columns\n",
        "    df[float_columns] = df[float_columns].apply(pd.to_numeric, downcast='float')\n",
        "\n",
        "    object_columns = df.select_dtypes(include=['object']).columns\n",
        "    for col in object_columns:\n",
        "        if df[col].nunique() / len(df) < 0.5:\n",
        "            df[col] = df[col].astype('category')\n",
        "\n",
        "    return df\n",
        "\n",
        "# Load and optimize df1\n",
        "df1 = pd.read_csv('/content/drive/MyDrive/NBA_2024_Shots.csv')\n",
        "df1 = optimize_data_types(df1)\n",
        "\n",
        "# Load and merge extracted data\n",
        "merged_df = merge_csv_files(folder_path=\"/content/drive/MyDrive/NBA_Analysis\")\n",
        "\n",
        "# Filter shot data\n",
        "shot_data = merged_df[(merged_df['EVENTMSGTYPE'] == 1) | (merged_df['EVENTMSGTYPE'] == 2) |\n",
        "                      (merged_df['EVENTMSGTYPE'] == 1.0) | (merged_df['EVENTMSGTYPE'] == 2.0)]\n",
        "\n",
        "# Define relevant columns for shot analysis\n",
        "relevant_columns = [\n",
        "    'GAME_ID', 'PLAYER_ID', 'SPD', 'DIST', 'ORBC', 'DRBC', 'RBC',\n",
        "    'TCHS', 'SAST', 'PASS', 'AST', 'FGM', 'FGA', 'FG_PCT_y',\n",
        "    'DFGM', 'DFGA', 'DFG_PCT', 'SHOT_CLOCK_RANGE', 'SCORE', 'SCOREMARGIN',\n",
        "    'EFG_PCT', 'PERSON1TYPE', 'PERSON2TYPE', 'PERSON3TYPE'\n",
        "]\n",
        "\n",
        "filtered_extracted_df = shot_data[relevant_columns]\n",
        "filtered_extracted_df = optimize_data_types(filtered_extracted_df)\n",
        "\n",
        "# Ensure merge keys have consistent types\n",
        "df1['GAME_ID'] = df1['GAME_ID'].astype(str)\n",
        "df1['PLAYER_ID'] = df1['PLAYER_ID'].astype(int)\n",
        "filtered_extracted_df['GAME_ID'] = filtered_extracted_df['GAME_ID'].astype(str)\n",
        "filtered_extracted_df['PLAYER_ID'] = filtered_extracted_df['PLAYER_ID'].astype(int)\n",
        "\n",
        "# Merge in chunks using left join and save to CSV\n",
        "chunk_size = 50000\n",
        "output_file = \"complete_merged_shot_data.csv\"\n",
        "\n",
        "with open(output_file, 'w') as f:\n",
        "    df1_chunk = df1.iloc[:chunk_size]\n",
        "    merged_chunk = pd.merge(df1_chunk, filtered_extracted_df, on=['GAME_ID', 'PLAYER_ID'], how='left')\n",
        "    merged_chunk = optimize_data_types(merged_chunk)\n",
        "    merged_chunk = merged_chunk.drop_duplicates()\n",
        "\n",
        "    merged_chunk.to_csv(f, index=False)\n",
        "\n",
        "for start in range(chunk_size, len(df1), chunk_size):\n",
        "    df1_chunk = df1.iloc[start:start + chunk_size]\n",
        "    merged_chunk = pd.merge(df1_chunk, filtered_extracted_df, on=['GAME_ID', 'PLAYER_ID'], how='left')\n",
        "    merged_chunk = optimize_data_types(merged_chunk)\n",
        "    merged_chunk = merged_chunk.drop_duplicates()\n",
        "\n",
        "    merged_chunk.to_csv(output_file, mode='a', index=False, header=False)\n",
        "\n",
        "print(f\"Completed merging. Full dataset saved to {output_file}\")\n",
        "\n",
        "# Load final merged data for verification\n",
        "chunks = pd.read_csv('/content/complete_merged_shot_data.csv', chunksize=chunk_size)\n",
        "df_list = []\n",
        "for chunk in chunks:\n",
        "    processed_chunk = optimize_data_types(chunk)\n",
        "    df_list.append(processed_chunk)\n",
        "\n",
        "df = pd.concat(df_list, ignore_index=True)\n",
        "\n",
        "# Verify LOC_X and LOC_Y in the final DataFrame\n",
        "print(\"Sample LOC_X values in final merged DataFrame:\", df['LOC_X'].head())\n",
        "print(\"Sample LOC_Y values in final merged DataFrame:\", df['LOC_Y'].head())\n",
        "print(\"Final DataFrame loaded with optimized data types.\")\n"
      ]
    },
    {
      "cell_type": "code",
      "execution_count": null,
      "metadata": {
        "colab": {
          "background_save": true
        },
        "id": "7owjjsGyiuRP"
      },
      "outputs": [],
      "source": [
        "df1 = pd.read_csv('/content/drive/MyDrive/NBA_2024_Shots.csv')"
      ]
    },
    {
      "cell_type": "code",
      "source": [
        "df = pd.read_parquet('/content/drive/MyDrive/optimized_data.parquet')"
      ],
      "metadata": {
        "id": "z1nTN5bAyw2A"
      },
      "execution_count": null,
      "outputs": []
    },
    {
      "cell_type": "code",
      "source": [
        "df.isnull().sum()"
      ],
      "metadata": {
        "id": "SUA__gaz0Wn8",
        "outputId": "08dbab3a-e57d-4ea9-aa3b-b0a469c920bf",
        "colab": {
          "base_uri": "https://localhost:8080/",
          "height": 1000
        }
      },
      "execution_count": null,
      "outputs": [
        {
          "output_type": "execute_result",
          "data": {
            "text/plain": [
              "SEASON_1             0     \n",
              "SEASON_2             0     \n",
              "TEAM_ID              0     \n",
              "TEAM_NAME            0     \n",
              "PLAYER_ID            0     \n",
              "PLAYER_NAME          0     \n",
              "POSITION_GROUP       0     \n",
              "POSITION             0     \n",
              "GAME_DATE            0     \n",
              "GAME_ID              0     \n",
              "HOME_TEAM            0     \n",
              "AWAY_TEAM            0     \n",
              "EVENT_TYPE           0     \n",
              "SHOT_MADE            0     \n",
              "ACTION_TYPE          0     \n",
              "SHOT_TYPE            0     \n",
              "BASIC_ZONE           0     \n",
              "ZONE_NAME            0     \n",
              "ZONE_ABB             0     \n",
              "ZONE_RANGE           0     \n",
              "LOC_X                0     \n",
              "LOC_Y                0     \n",
              "SHOT_DISTANCE        0     \n",
              "QUARTER              0     \n",
              "MINS_LEFT            0     \n",
              "SECS_LEFT            0     \n",
              "SPD                  0     \n",
              "DIST                 0     \n",
              "ORBC                 0     \n",
              "DRBC                 0     \n",
              "RBC                  0     \n",
              "TCHS                 0     \n",
              "SAST                 0     \n",
              "PASS                 0     \n",
              "AST                  0     \n",
              "FGM                  0     \n",
              "FGA                  0     \n",
              "FG_PCT_y             0     \n",
              "DFGM                 0     \n",
              "DFGA                 0     \n",
              "DFG_PCT              0     \n",
              "SHOT_CLOCK_RANGE     0     \n",
              "SCORE                0     \n",
              "SCOREMARGIN          815109\n",
              "EFG_PCT              0     \n",
              "PERSON1TYPE          0     \n",
              "PERSON2TYPE          0     \n",
              "PERSON3TYPE          0     \n",
              "LOC_X_BIN            0     \n",
              "LOC_Y_BIN            0     \n",
              "SHOT_DISTANCE_BIN    0     \n",
              "HOME_SCORE           0     \n",
              "AWAY_SCORE           0     \n",
              "dtype: int64"
            ],
            "text/html": [
              "<div>\n",
              "<style scoped>\n",
              "    .dataframe tbody tr th:only-of-type {\n",
              "        vertical-align: middle;\n",
              "    }\n",
              "\n",
              "    .dataframe tbody tr th {\n",
              "        vertical-align: top;\n",
              "    }\n",
              "\n",
              "    .dataframe thead th {\n",
              "        text-align: right;\n",
              "    }\n",
              "</style>\n",
              "<table border=\"1\" class=\"dataframe\">\n",
              "  <thead>\n",
              "    <tr style=\"text-align: right;\">\n",
              "      <th></th>\n",
              "      <th>0</th>\n",
              "    </tr>\n",
              "  </thead>\n",
              "  <tbody>\n",
              "    <tr>\n",
              "      <th>SEASON_1</th>\n",
              "      <td>0</td>\n",
              "    </tr>\n",
              "    <tr>\n",
              "      <th>SEASON_2</th>\n",
              "      <td>0</td>\n",
              "    </tr>\n",
              "    <tr>\n",
              "      <th>TEAM_ID</th>\n",
              "      <td>0</td>\n",
              "    </tr>\n",
              "    <tr>\n",
              "      <th>TEAM_NAME</th>\n",
              "      <td>0</td>\n",
              "    </tr>\n",
              "    <tr>\n",
              "      <th>PLAYER_ID</th>\n",
              "      <td>0</td>\n",
              "    </tr>\n",
              "    <tr>\n",
              "      <th>PLAYER_NAME</th>\n",
              "      <td>0</td>\n",
              "    </tr>\n",
              "    <tr>\n",
              "      <th>POSITION_GROUP</th>\n",
              "      <td>0</td>\n",
              "    </tr>\n",
              "    <tr>\n",
              "      <th>POSITION</th>\n",
              "      <td>0</td>\n",
              "    </tr>\n",
              "    <tr>\n",
              "      <th>GAME_DATE</th>\n",
              "      <td>0</td>\n",
              "    </tr>\n",
              "    <tr>\n",
              "      <th>GAME_ID</th>\n",
              "      <td>0</td>\n",
              "    </tr>\n",
              "    <tr>\n",
              "      <th>HOME_TEAM</th>\n",
              "      <td>0</td>\n",
              "    </tr>\n",
              "    <tr>\n",
              "      <th>AWAY_TEAM</th>\n",
              "      <td>0</td>\n",
              "    </tr>\n",
              "    <tr>\n",
              "      <th>EVENT_TYPE</th>\n",
              "      <td>0</td>\n",
              "    </tr>\n",
              "    <tr>\n",
              "      <th>SHOT_MADE</th>\n",
              "      <td>0</td>\n",
              "    </tr>\n",
              "    <tr>\n",
              "      <th>ACTION_TYPE</th>\n",
              "      <td>0</td>\n",
              "    </tr>\n",
              "    <tr>\n",
              "      <th>SHOT_TYPE</th>\n",
              "      <td>0</td>\n",
              "    </tr>\n",
              "    <tr>\n",
              "      <th>BASIC_ZONE</th>\n",
              "      <td>0</td>\n",
              "    </tr>\n",
              "    <tr>\n",
              "      <th>ZONE_NAME</th>\n",
              "      <td>0</td>\n",
              "    </tr>\n",
              "    <tr>\n",
              "      <th>ZONE_ABB</th>\n",
              "      <td>0</td>\n",
              "    </tr>\n",
              "    <tr>\n",
              "      <th>ZONE_RANGE</th>\n",
              "      <td>0</td>\n",
              "    </tr>\n",
              "    <tr>\n",
              "      <th>LOC_X</th>\n",
              "      <td>0</td>\n",
              "    </tr>\n",
              "    <tr>\n",
              "      <th>LOC_Y</th>\n",
              "      <td>0</td>\n",
              "    </tr>\n",
              "    <tr>\n",
              "      <th>SHOT_DISTANCE</th>\n",
              "      <td>0</td>\n",
              "    </tr>\n",
              "    <tr>\n",
              "      <th>QUARTER</th>\n",
              "      <td>0</td>\n",
              "    </tr>\n",
              "    <tr>\n",
              "      <th>MINS_LEFT</th>\n",
              "      <td>0</td>\n",
              "    </tr>\n",
              "    <tr>\n",
              "      <th>SECS_LEFT</th>\n",
              "      <td>0</td>\n",
              "    </tr>\n",
              "    <tr>\n",
              "      <th>SPD</th>\n",
              "      <td>0</td>\n",
              "    </tr>\n",
              "    <tr>\n",
              "      <th>DIST</th>\n",
              "      <td>0</td>\n",
              "    </tr>\n",
              "    <tr>\n",
              "      <th>ORBC</th>\n",
              "      <td>0</td>\n",
              "    </tr>\n",
              "    <tr>\n",
              "      <th>DRBC</th>\n",
              "      <td>0</td>\n",
              "    </tr>\n",
              "    <tr>\n",
              "      <th>RBC</th>\n",
              "      <td>0</td>\n",
              "    </tr>\n",
              "    <tr>\n",
              "      <th>TCHS</th>\n",
              "      <td>0</td>\n",
              "    </tr>\n",
              "    <tr>\n",
              "      <th>SAST</th>\n",
              "      <td>0</td>\n",
              "    </tr>\n",
              "    <tr>\n",
              "      <th>PASS</th>\n",
              "      <td>0</td>\n",
              "    </tr>\n",
              "    <tr>\n",
              "      <th>AST</th>\n",
              "      <td>0</td>\n",
              "    </tr>\n",
              "    <tr>\n",
              "      <th>FGM</th>\n",
              "      <td>0</td>\n",
              "    </tr>\n",
              "    <tr>\n",
              "      <th>FGA</th>\n",
              "      <td>0</td>\n",
              "    </tr>\n",
              "    <tr>\n",
              "      <th>FG_PCT_y</th>\n",
              "      <td>0</td>\n",
              "    </tr>\n",
              "    <tr>\n",
              "      <th>DFGM</th>\n",
              "      <td>0</td>\n",
              "    </tr>\n",
              "    <tr>\n",
              "      <th>DFGA</th>\n",
              "      <td>0</td>\n",
              "    </tr>\n",
              "    <tr>\n",
              "      <th>DFG_PCT</th>\n",
              "      <td>0</td>\n",
              "    </tr>\n",
              "    <tr>\n",
              "      <th>SHOT_CLOCK_RANGE</th>\n",
              "      <td>0</td>\n",
              "    </tr>\n",
              "    <tr>\n",
              "      <th>SCORE</th>\n",
              "      <td>0</td>\n",
              "    </tr>\n",
              "    <tr>\n",
              "      <th>SCOREMARGIN</th>\n",
              "      <td>815109</td>\n",
              "    </tr>\n",
              "    <tr>\n",
              "      <th>EFG_PCT</th>\n",
              "      <td>0</td>\n",
              "    </tr>\n",
              "    <tr>\n",
              "      <th>PERSON1TYPE</th>\n",
              "      <td>0</td>\n",
              "    </tr>\n",
              "    <tr>\n",
              "      <th>PERSON2TYPE</th>\n",
              "      <td>0</td>\n",
              "    </tr>\n",
              "    <tr>\n",
              "      <th>PERSON3TYPE</th>\n",
              "      <td>0</td>\n",
              "    </tr>\n",
              "    <tr>\n",
              "      <th>LOC_X_BIN</th>\n",
              "      <td>0</td>\n",
              "    </tr>\n",
              "    <tr>\n",
              "      <th>LOC_Y_BIN</th>\n",
              "      <td>0</td>\n",
              "    </tr>\n",
              "    <tr>\n",
              "      <th>SHOT_DISTANCE_BIN</th>\n",
              "      <td>0</td>\n",
              "    </tr>\n",
              "    <tr>\n",
              "      <th>HOME_SCORE</th>\n",
              "      <td>0</td>\n",
              "    </tr>\n",
              "    <tr>\n",
              "      <th>AWAY_SCORE</th>\n",
              "      <td>0</td>\n",
              "    </tr>\n",
              "  </tbody>\n",
              "</table>\n",
              "</div><br><label><b>dtype:</b> int64</label>"
            ]
          },
          "metadata": {},
          "execution_count": 4
        }
      ]
    },
    {
      "cell_type": "code",
      "execution_count": null,
      "metadata": {
        "colab": {
          "background_save": true
        },
        "id": "HPI9IWUzORk1"
      },
      "outputs": [],
      "source": [
        "df_original = df.copy()"
      ]
    },
    {
      "cell_type": "code",
      "execution_count": null,
      "metadata": {
        "colab": {
          "background_save": true
        },
        "id": "3E9f100XRvbL"
      },
      "outputs": [],
      "source": [
        "pd.set_option('display.max_columns', None)\n",
        "pd.set_option('display.max_rows',100)\n",
        "pd.set_option(\"display.max_colwidth\", 1)\n"
      ]
    },
    {
      "cell_type": "code",
      "execution_count": null,
      "metadata": {
        "colab": {
          "background_save": true
        },
        "id": "xorjCLZghpXN"
      },
      "outputs": [],
      "source": [
        "\n",
        "df = df.dropna(subset=['SCORE', 'SCOREMARGIN', 'POSITION_GROUP', 'POSITION']).reset_index(drop=True)\n"
      ]
    },
    {
      "cell_type": "code",
      "execution_count": null,
      "metadata": {
        "colab": {
          "background_save": true
        },
        "id": "uBjR4pYGOhXd"
      },
      "outputs": [],
      "source": [
        "# Convert to more memory-efficient types\n",
        "df['PLAYER_ID'] = df['PLAYER_ID'].astype('int32')\n",
        "df['GAME_ID'] = df['GAME_ID'].astype('int32')\n",
        "df['EVENT_TYPE'] = df['EVENT_TYPE'].astype('category')\n",
        "df['LOC_X'] = df['LOC_X'].astype('float32')\n",
        "df['LOC_Y'] = df['LOC_Y'].astype('float32')\n",
        "df['SHOT_DISTANCE'] = df['SHOT_DISTANCE'].astype('float32')\n",
        "df['QUARTER'] = df['QUARTER'].astype('int8')\n",
        "df['SECS_LEFT'] = df['SECS_LEFT'].astype('int8')\n",
        "df['SPD'] = df['SPD'].astype('float32')\n",
        "df['DIST'] = df['DIST'].astype('float32')\n",
        "df['EFG_PCT'] = df['EFG_PCT'].astype('float32')\n",
        "\n"
      ]
    },
    {
      "cell_type": "code",
      "execution_count": null,
      "metadata": {
        "colab": {
          "base_uri": "https://localhost:8080/"
        },
        "id": "1vYmpZNJRnPo",
        "outputId": "bb5f5632-7e6d-478a-d80b-76618dac4973"
      },
      "outputs": [
        {
          "name": "stdout",
          "output_type": "stream",
          "text": [
            "Requirement already satisfied: dask in /usr/local/lib/python3.10/dist-packages (2024.8.2)\n",
            "Requirement already satisfied: click>=8.1 in /usr/local/lib/python3.10/dist-packages (from dask) (8.1.7)\n",
            "Requirement already satisfied: cloudpickle>=3.0.0 in /usr/local/lib/python3.10/dist-packages (from dask) (3.1.0)\n",
            "Requirement already satisfied: fsspec>=2021.09.0 in /usr/local/lib/python3.10/dist-packages (from dask) (2024.6.1)\n",
            "Requirement already satisfied: packaging>=20.0 in /usr/local/lib/python3.10/dist-packages (from dask) (24.1)\n",
            "Requirement already satisfied: partd>=1.4.0 in /usr/local/lib/python3.10/dist-packages (from dask) (1.4.2)\n",
            "Requirement already satisfied: pyyaml>=5.3.1 in /usr/local/lib/python3.10/dist-packages (from dask) (6.0.2)\n",
            "Requirement already satisfied: toolz>=0.10.0 in /usr/local/lib/python3.10/dist-packages (from dask) (0.12.1)\n",
            "Requirement already satisfied: importlib-metadata>=4.13.0 in /usr/local/lib/python3.10/dist-packages (from dask) (8.5.0)\n",
            "Requirement already satisfied: zipp>=3.20 in /usr/local/lib/python3.10/dist-packages (from importlib-metadata>=4.13.0->dask) (3.20.2)\n",
            "Requirement already satisfied: locket in /usr/local/lib/python3.10/dist-packages (from partd>=1.4.0->dask) (1.0.0)\n"
          ]
        }
      ],
      "source": [
        "pip install dask\n"
      ]
    },
    {
      "cell_type": "code",
      "execution_count": null,
      "metadata": {
        "colab": {
          "base_uri": "https://localhost:8080/"
        },
        "id": "GyrGzC5rRk5I",
        "outputId": "49816766-56f6-49fc-a475-a6b4a5a57fab"
      },
      "outputs": [
        {
          "name": "stderr",
          "output_type": "stream",
          "text": [
            "/usr/local/lib/python3.10/dist-packages/dask/dataframe/groupby.py:1424: FutureWarning: The default of observed=False is deprecated and will be changed to True in a future version of pandas. Pass observed=False to retain current behavior or observed=True to adopt the future default and silence this warning.\n",
            "  self._meta = self.obj._meta.groupby(\n"
          ]
        }
      ],
      "source": [
        "import dask.dataframe as dd\n",
        "\n",
        "# Load data as a Dask DataFrame, splitting into more partitions if needed\n",
        "ddf = dd.from_pandas(df, npartitions=20)\n",
        "\n",
        "# Convert columns to optimized data types but avoid float16 for indexing columns\n",
        "ddf['PLAYER_ID'] = ddf['PLAYER_ID'].astype('uint16')\n",
        "ddf['GAME_ID'] = ddf['GAME_ID'].astype('uint32')\n",
        "ddf['EVENT_TYPE'] = ddf['EVENT_TYPE'].astype('category')\n",
        "ddf['LOC_X'] = ddf['LOC_X'].astype('float32')\n",
        "ddf['LOC_Y'] = ddf['LOC_Y'].astype('float32')\n",
        "ddf['SHOT_DISTANCE'] = ddf['SHOT_DISTANCE'].astype('float32')\n",
        "ddf['QUARTER'] = ddf['QUARTER'].astype('uint8')\n",
        "ddf['SECS_LEFT'] = ddf['SECS_LEFT'].astype('uint8')\n",
        "ddf['SPD'] = ddf['SPD'].astype('float32')\n",
        "ddf['DIST'] = ddf['DIST'].astype('float32')\n",
        "ddf['EFG_PCT'] = ddf['EFG_PCT'].astype('float32')\n",
        "\n",
        "# Specify the expected output structure for meta\n",
        "meta = {\n",
        "    'PLAYER_ID': 'uint16',\n",
        "    'GAME_ID': 'uint32',\n",
        "    'EVENT_TYPE': 'category',\n",
        "    'LOC_X': 'float32',\n",
        "    'LOC_Y': 'float32',\n",
        "    'SHOT_DISTANCE': 'float32',\n",
        "    'QUARTER': 'uint8',\n",
        "    'shot_count': 'int32',\n",
        "    'avg_secs_left': 'float32',\n",
        "    'avg_spd': 'float32',\n",
        "    'avg_dist': 'float32',\n",
        "    'avg_efg_pct': 'float32'\n",
        "}\n",
        "\n",
        "# Groupby with the provided meta structure to avoid memory inference issues\n",
        "result = (\n",
        "    ddf.groupby(['PLAYER_ID', 'GAME_ID', 'EVENT_TYPE', 'LOC_X', 'LOC_Y', 'SHOT_DISTANCE', 'QUARTER'])\n",
        "    .agg({\n",
        "        'SECS_LEFT': 'mean',  # Average of seconds left\n",
        "        'SPD': 'mean',        # Average speed\n",
        "        'DIST': 'mean',       # Average distance\n",
        "        'EFG_PCT': 'mean',    # Average effective FG percentage\n",
        "        'EVENT_TYPE': 'size'  # Count of shots/events\n",
        "    })\n",
        "    .rename(columns={'EVENT_TYPE': 'shot_count'})\n",
        "    .reset_index()\n",
        ")\n",
        "\n",
        "# Trigger computation and sort by shot count\n",
        "final_agg_df = result.compute(meta=meta)\n",
        "final_agg_df = final_agg_df.sort_values(by='shot_count', ascending=False)\n",
        "\n",
        "# View the summary\n",
        "print(final_agg_df.head())\n",
        "\n"
      ]
    },
    {
      "cell_type": "code",
      "execution_count": null,
      "metadata": {
        "id": "rI7m921LTXBn"
      },
      "outputs": [],
      "source": []
    },
    {
      "cell_type": "code",
      "execution_count": null,
      "metadata": {
        "colab": {
          "base_uri": "https://localhost:8080/"
        },
        "id": "rUBUlvrE6ZkD",
        "outputId": "9efbe160-854f-45f3-fecc-bd663f7263c9"
      },
      "outputs": [
        {
          "name": "stdout",
          "output_type": "stream",
          "text": [
            "Column 'LOC_X' is unchanged after filtering.\n",
            "Column 'LOC_Y' is unchanged after filtering.\n",
            "Column 'SHOT_DISTANCE' is unchanged after filtering.\n",
            "Column 'PLAYER_NAME' is unchanged after filtering.\n"
          ]
        }
      ],
      "source": [
        "df = df_original.copy()\n",
        "\n",
        "filtered_df = df[df[['SCORE', 'SCOREMARGIN', 'POSITION_GROUP', 'POSITION']].notna().all(axis=1)]\n",
        "\n",
        "unchanged_columns = ['LOC_X', 'LOC_Y', 'SHOT_DISTANCE', 'PLAYER_NAME']\n",
        "\n",
        "for col in unchanged_columns:\n",
        "    if not filtered_df[col].equals(df.loc[filtered_df.index, col]):\n",
        "        print(f\"Warning: Column '{col}' changed unexpectedly after filtering.\")\n",
        "    else:\n",
        "        print(f\"Column '{col}' is unchanged after filtering.\")\n"
      ]
    },
    {
      "cell_type": "code",
      "execution_count": null,
      "metadata": {
        "id": "-Qhi8TXwaHXp"
      },
      "outputs": [],
      "source": [
        "numerical_columns = ['SPD', 'DIST', 'ORBC', 'DRBC', 'RBC', 'TCHS', 'SAST', 'PASS',\n",
        "                     'AST', 'FGM', 'FGA', 'FG_PCT_y', 'DFGM', 'DFGA', 'DFG_PCT',\n",
        "                     'EFG_PCT', 'PERSON1TYPE', 'PERSON2TYPE', 'PERSON3TYPE']\n",
        "\n",
        "for col in numerical_columns:\n",
        "    df[col] = df.groupby(['PLAYER_ID', 'GAME_ID'])[col].transform(lambda x: x.fillna(x.median()))\n",
        "\n",
        "\n"
      ]
    },
    {
      "cell_type": "markdown",
      "metadata": {
        "id": "RKzIyma9Wg7K"
      },
      "source": [
        "Data Cleaning\n"
      ]
    },
    {
      "cell_type": "code",
      "execution_count": null,
      "metadata": {
        "colab": {
          "base_uri": "https://localhost:8080/",
          "height": 139
        },
        "id": "iSfUrErJiJDe",
        "outputId": "846e12ce-a6d4-4a8e-82d5-8989c855d8c3"
      },
      "outputs": [
        {
          "ename": "NameError",
          "evalue": "name 'sample_data' is not defined",
          "output_type": "error",
          "traceback": [
            "\u001b[0;31m---------------------------------------------------------------------------\u001b[0m",
            "\u001b[0;31mNameError\u001b[0m                                 Traceback (most recent call last)",
            "\u001b[0;32m<ipython-input-9-b96dba4bff19>\u001b[0m in \u001b[0;36m<cell line: 1>\u001b[0;34m()\u001b[0m\n\u001b[0;32m----> 1\u001b[0;31m \u001b[0mprint\u001b[0m\u001b[0;34m(\u001b[0m\u001b[0msample_data\u001b[0m\u001b[0;34m[\u001b[0m\u001b[0;34m'SCORE'\u001b[0m\u001b[0;34m]\u001b[0m\u001b[0;34m.\u001b[0m\u001b[0munique\u001b[0m\u001b[0;34m(\u001b[0m\u001b[0;34m)\u001b[0m\u001b[0;34m)\u001b[0m\u001b[0;34m\u001b[0m\u001b[0;34m\u001b[0m\u001b[0m\n\u001b[0m",
            "\u001b[0;31mNameError\u001b[0m: name 'sample_data' is not defined"
          ]
        }
      ],
      "source": [
        "print(sample_data['SCORE'].unique())\n"
      ]
    },
    {
      "cell_type": "code",
      "execution_count": null,
      "metadata": {
        "colab": {
          "base_uri": "https://localhost:8080/"
        },
        "id": "8WGonKNIiq8u",
        "outputId": "8f9e511c-c2dc-42b4-8143-c8bfd86de32c"
      },
      "outputs": [
        {
          "data": {
            "text/plain": [
              "0"
            ]
          },
          "execution_count": 13,
          "metadata": {},
          "output_type": "execute_result"
        }
      ],
      "source": [
        "df['SCORE'].isnull().sum()"
      ]
    },
    {
      "cell_type": "code",
      "execution_count": null,
      "metadata": {
        "id": "s4nsm4_5iSua"
      },
      "outputs": [],
      "source": [
        "df[['HOME_SCORE', 'AWAY_SCORE']] = df['SCORE'].str.split(' - ', expand=True)\n",
        "\n",
        "df['HOME_SCORE'] = pd.to_numeric(df['HOME_SCORE'], errors='coerce')\n",
        "df['AWAY_SCORE'] = pd.to_numeric(df['AWAY_SCORE'], errors='coerce')\n",
        "\n",
        "\n"
      ]
    },
    {
      "cell_type": "code",
      "execution_count": null,
      "metadata": {
        "id": "p2VcOoN9jna-"
      },
      "outputs": [],
      "source": [
        "# Create columns that indicate if there's a change in HOME_SCORE or AWAY_SCORE\n",
        "df['HOME_SCORE_CHANGE'] = df['HOME_SCORE'].diff().fillna(0) != 0\n",
        "df['AWAY_SCORE_CHANGE'] = df['AWAY_SCORE'].diff().fillna(0) != 0\n"
      ]
    },
    {
      "cell_type": "code",
      "execution_count": null,
      "metadata": {
        "colab": {
          "base_uri": "https://localhost:8080/"
        },
        "id": "RYNB4neulLxD",
        "outputId": "bd1f9249-9937-409c-cc14-b735612795d0"
      },
      "outputs": [
        {
          "name": "stdout",
          "output_type": "stream",
          "text": [
            "Home score changes: 11091897\n",
            "Away score changes: 11198320\n"
          ]
        }
      ],
      "source": [
        "# Count the number of times each score changes\n",
        "home_score_changes = df['HOME_SCORE_CHANGE'].sum()\n",
        "away_score_changes = df['AWAY_SCORE_CHANGE'].sum()\n",
        "\n",
        "print(f\"Home score changes: {home_score_changes}\")\n",
        "print(f\"Away score changes: {away_score_changes}\")\n"
      ]
    },
    {
      "cell_type": "code",
      "execution_count": null,
      "metadata": {
        "id": "TPC3-6t3laGl"
      },
      "outputs": [],
      "source": [
        "\n",
        "home_score_changes = home_score_changes.copy()\n",
        "home_score_changes.loc[:, 'TIME_LEFT'] = home_score_changes['MINS_LEFT'] * 60 + home_score_changes['SECS_LEFT']\n",
        "home_score_changes.loc[:, 'TIME_DIFF'] = home_score_changes['TIME_LEFT'].diff().fillna(0)\n",
        "\n",
        "away_score_changes = away_score_changes.copy()\n",
        "away_score_changes.loc[:, 'TIME_LEFT'] = away_score_changes['MINS_LEFT'] * 60 + away_score_changes['SECS_LEFT']\n",
        "away_score_changes.loc[:, 'TIME_DIFF'] = away_score_changes['TIME_LEFT'].diff().fillna(0)\n",
        "\n"
      ]
    },
    {
      "cell_type": "code",
      "execution_count": null,
      "metadata": {
        "colab": {
          "base_uri": "https://localhost:8080/"
        },
        "id": "9Wett9Hlno0J",
        "outputId": "fbb28169-f254-469a-ca12-80bca604ad5a"
      },
      "outputs": [
        {
          "name": "stdout",
          "output_type": "stream",
          "text": [
            "SHOT_CLOCK_RANGE    14.354954\n",
            "SEASON_1            0.000000 \n",
            "FGM                 0.000000 \n",
            "SPD                 0.000000 \n",
            "DIST                0.000000 \n",
            "ORBC                0.000000 \n",
            "DRBC                0.000000 \n",
            "RBC                 0.000000 \n",
            "TCHS                0.000000 \n",
            "SAST                0.000000 \n",
            "PASS                0.000000 \n",
            "AST                 0.000000 \n",
            "FGA                 0.000000 \n",
            "SEASON_2            0.000000 \n",
            "FG_PCT_y            0.000000 \n",
            "DFGM                0.000000 \n",
            "DFGA                0.000000 \n",
            "DFG_PCT             0.000000 \n",
            "SCORE               0.000000 \n",
            "SCOREMARGIN         0.000000 \n",
            "EFG_PCT             0.000000 \n",
            "PERSON1TYPE         0.000000 \n",
            "PERSON2TYPE         0.000000 \n",
            "SECS_LEFT           0.000000 \n",
            "MINS_LEFT           0.000000 \n",
            "QUARTER             0.000000 \n",
            "AWAY_TEAM           0.000000 \n",
            "TEAM_ID             0.000000 \n",
            "TEAM_NAME           0.000000 \n",
            "PLAYER_ID           0.000000 \n",
            "PLAYER_NAME         0.000000 \n",
            "POSITION_GROUP      0.000000 \n",
            "POSITION            0.000000 \n",
            "GAME_DATE           0.000000 \n",
            "GAME_ID             0.000000 \n",
            "HOME_TEAM           0.000000 \n",
            "EVENT_TYPE          0.000000 \n",
            "SHOT_DISTANCE       0.000000 \n",
            "SHOT_MADE           0.000000 \n",
            "ACTION_TYPE         0.000000 \n",
            "SHOT_TYPE           0.000000 \n",
            "BASIC_ZONE          0.000000 \n",
            "ZONE_NAME           0.000000 \n",
            "ZONE_ABB            0.000000 \n",
            "ZONE_RANGE          0.000000 \n",
            "LOC_X               0.000000 \n",
            "LOC_Y               0.000000 \n",
            "PERSON3TYPE         0.000000 \n",
            "dtype: float64\n"
          ]
        }
      ],
      "source": [
        "\n",
        "missing_percentage = df.isnull().mean() * 100\n",
        "\n",
        "\n",
        "print(missing_percentage.sort_values(ascending=False))\n"
      ]
    },
    {
      "cell_type": "code",
      "execution_count": null,
      "metadata": {
        "id": "Hb5g3NPju9Wi"
      },
      "outputs": [],
      "source": [
        "# Forward fill for score-related columns within each game\n",
        "score_columns = ['SCORE', 'SCOREMARGIN', 'HOME_SCORE', 'AWAY_SCORE']\n",
        "df[score_columns] = df.groupby('GAME_ID')[score_columns].ffill()\n",
        "\n",
        "# Median imputation for player tracking stats\n",
        "tracking_stats = ['SPD', 'FG_PCT_y', 'ORBC', 'DRBC', 'RBC', 'TCHS', 'SAST', 'PASS', 'AST',\n",
        "                  'FGM', 'FGA', 'DFGA', 'DFGM', 'DFG_PCT', 'EFG_PCT',\n",
        "                  'PERSON1TYPE', 'PERSON2TYPE', 'PERSON3TYPE', 'DIST']\n",
        "# Median imputation for player tracking stats without using inplace\n",
        "for col in tracking_stats:\n",
        "    df[col] = df[col].fillna(df[col].median())\n",
        "\n",
        "\n"
      ]
    },
    {
      "cell_type": "code",
      "execution_count": null,
      "metadata": {
        "id": "JMoUPA3uyq54"
      },
      "outputs": [],
      "source": [
        "# Replace missing values using the median explicitly with apply and lambda\n",
        "for col in tracking_stats:\n",
        "    df[col] = df[col].apply(lambda x: x if pd.notnull(x) else df[col].median())\n"
      ]
    },
    {
      "cell_type": "code",
      "execution_count": null,
      "metadata": {
        "colab": {
          "base_uri": "https://localhost:8080/",
          "height": 453
        },
        "id": "Bc9dZpzlvESr",
        "outputId": "ad4adda1-745c-4239-9744-c4f50a6431ca"
      },
      "outputs": [
        {
          "data": {
            "text/html": [
              "<div>\n",
              "<style scoped>\n",
              "    .dataframe tbody tr th:only-of-type {\n",
              "        vertical-align: middle;\n",
              "    }\n",
              "\n",
              "    .dataframe tbody tr th {\n",
              "        vertical-align: top;\n",
              "    }\n",
              "\n",
              "    .dataframe thead th {\n",
              "        text-align: right;\n",
              "    }\n",
              "</style>\n",
              "<table border=\"1\" class=\"dataframe\">\n",
              "  <thead>\n",
              "    <tr style=\"text-align: right;\">\n",
              "      <th></th>\n",
              "      <th>LOC_X</th>\n",
              "    </tr>\n",
              "  </thead>\n",
              "  <tbody>\n",
              "    <tr>\n",
              "      <th>0</th>\n",
              "      <td>0.1</td>\n",
              "    </tr>\n",
              "    <tr>\n",
              "      <th>1</th>\n",
              "      <td>0.1</td>\n",
              "    </tr>\n",
              "    <tr>\n",
              "      <th>2</th>\n",
              "      <td>0.1</td>\n",
              "    </tr>\n",
              "    <tr>\n",
              "      <th>3</th>\n",
              "      <td>0.1</td>\n",
              "    </tr>\n",
              "    <tr>\n",
              "      <th>4</th>\n",
              "      <td>0.1</td>\n",
              "    </tr>\n",
              "    <tr>\n",
              "      <th>...</th>\n",
              "      <td>...</td>\n",
              "    </tr>\n",
              "    <tr>\n",
              "      <th>20134689</th>\n",
              "      <td>1.1</td>\n",
              "    </tr>\n",
              "    <tr>\n",
              "      <th>20134690</th>\n",
              "      <td>1.1</td>\n",
              "    </tr>\n",
              "    <tr>\n",
              "      <th>20134691</th>\n",
              "      <td>1.1</td>\n",
              "    </tr>\n",
              "    <tr>\n",
              "      <th>20134692</th>\n",
              "      <td>1.1</td>\n",
              "    </tr>\n",
              "    <tr>\n",
              "      <th>20134693</th>\n",
              "      <td>1.1</td>\n",
              "    </tr>\n",
              "  </tbody>\n",
              "</table>\n",
              "<p>20134694 rows × 1 columns</p>\n",
              "</div><br><label><b>dtype:</b> float32</label>"
            ],
            "text/plain": [
              "0           0.1\n",
              "1           0.1\n",
              "2           0.1\n",
              "3           0.1\n",
              "4           0.1\n",
              "           ... \n",
              "20134689    1.1\n",
              "20134690    1.1\n",
              "20134691    1.1\n",
              "20134692    1.1\n",
              "20134693    1.1\n",
              "Name: LOC_X, Length: 20134694, dtype: float32"
            ]
          },
          "execution_count": 16,
          "metadata": {},
          "output_type": "execute_result"
        }
      ],
      "source": [
        "df"
      ]
    },
    {
      "cell_type": "code",
      "execution_count": null,
      "metadata": {
        "colab": {
          "base_uri": "https://localhost:8080/"
        },
        "collapsed": true,
        "id": "kbgnS2hvbLn4",
        "outputId": "d70751e9-1b6a-4e4b-e295-6033d8835f76"
      },
      "outputs": [
        {
          "name": "stderr",
          "output_type": "stream",
          "text": [
            "<ipython-input-10-b89aff22f7cf>:1: SettingWithCopyWarning: \n",
            "A value is trying to be set on a copy of a slice from a DataFrame.\n",
            "Try using .loc[row_indexer,col_indexer] = value instead\n",
            "\n",
            "See the caveats in the documentation: https://pandas.pydata.org/pandas-docs/stable/user_guide/indexing.html#returning-a-view-versus-a-copy\n",
            "  df['SHOT_CLOCK_RANGE'] = df['SHOT_CLOCK_RANGE'].cat.add_categories(\"Unknown\")\n",
            "<ipython-input-10-b89aff22f7cf>:2: FutureWarning: A value is trying to be set on a copy of a DataFrame or Series through chained assignment using an inplace method.\n",
            "The behavior will change in pandas 3.0. This inplace method will never work because the intermediate object on which we are setting values always behaves as a copy.\n",
            "\n",
            "For example, when doing 'df[col].method(value, inplace=True)', try using 'df.method({col: value}, inplace=True)' or df[col] = df[col].method(value) instead, to perform the operation inplace on the original object.\n",
            "\n",
            "\n",
            "  df['SHOT_CLOCK_RANGE'].fillna(\"Unknown\", inplace=True)\n",
            "<ipython-input-10-b89aff22f7cf>:2: SettingWithCopyWarning: \n",
            "A value is trying to be set on a copy of a slice from a DataFrame\n",
            "\n",
            "See the caveats in the documentation: https://pandas.pydata.org/pandas-docs/stable/user_guide/indexing.html#returning-a-view-versus-a-copy\n",
            "  df['SHOT_CLOCK_RANGE'].fillna(\"Unknown\", inplace=True)\n"
          ]
        }
      ],
      "source": [
        "df['SHOT_CLOCK_RANGE'] = df['SHOT_CLOCK_RANGE'].cat.add_categories(\"Unknown\")\n",
        "df['SHOT_CLOCK_RANGE'].fillna(\"Unknown\", inplace=True)\n",
        "\n"
      ]
    },
    {
      "cell_type": "code",
      "execution_count": null,
      "metadata": {
        "colab": {
          "base_uri": "https://localhost:8080/"
        },
        "collapsed": true,
        "id": "sIUF3HzeZoh9",
        "outputId": "45742cfd-941f-4096-a079-6c3288d428d8"
      },
      "outputs": [
        {
          "name": "stdout",
          "output_type": "stream",
          "text": [
            "Unique values in column 'TEAM_NAME': 30\n",
            "Unique values in column 'PLAYER_NAME': 458\n",
            "Unique values in column 'POSITION_GROUP': 3\n",
            "Unique values in column 'POSITION': 12\n",
            "Unique values in column 'GAME_DATE': 26\n",
            "Unique values in column 'HOME_TEAM': 30\n",
            "Unique values in column 'AWAY_TEAM': 30\n",
            "Unique values in column 'ACTION_TYPE': 48\n",
            "Unique values in column 'BASIC_ZONE': 7\n",
            "Unique values in column 'ZONE_NAME': 6\n",
            "Unique values in column 'ZONE_ABB': 6\n",
            "Unique values in column 'ZONE_RANGE': 5\n",
            "Unique values in column 'SCORE': 5446\n",
            "Unique values in column 'SCOREMARGIN': 290\n"
          ]
        }
      ],
      "source": [
        "for col in df.select_dtypes(include=['object']).columns:\n",
        "    unique_values = df[col].nunique()\n",
        "    print(f\"Unique values in column '{col}': {unique_values}\")"
      ]
    },
    {
      "cell_type": "code",
      "execution_count": null,
      "metadata": {
        "id": "fX21oezHZLt9"
      },
      "outputs": [],
      "source": [
        "\n",
        "categorical_columns = [\n",
        "    'TEAM_NAME', 'PLAYER_NAME', 'POSITION_GROUP', 'POSITION',\n",
        "    'GAME_DATE', 'HOME_TEAM', 'AWAY_TEAM', 'BASIC_ZONE',\n",
        "    'ZONE_NAME', 'ZONE_ABB', 'ZONE_RANGE'\n",
        "]\n",
        "for col in categorical_columns:\n",
        "    df[col] = df[col].astype('category')\n"
      ]
    },
    {
      "cell_type": "code",
      "execution_count": null,
      "metadata": {
        "colab": {
          "base_uri": "https://localhost:8080/",
          "height": 1000
        },
        "collapsed": true,
        "id": "zliRSzJ-ZarJ",
        "outputId": "0494ffdf-e3e7-48b4-c054-88dec5b87745"
      },
      "outputs": [
        {
          "data": {
            "text/html": [
              "<div>\n",
              "<style scoped>\n",
              "    .dataframe tbody tr th:only-of-type {\n",
              "        vertical-align: middle;\n",
              "    }\n",
              "\n",
              "    .dataframe tbody tr th {\n",
              "        vertical-align: top;\n",
              "    }\n",
              "\n",
              "    .dataframe thead th {\n",
              "        text-align: right;\n",
              "    }\n",
              "</style>\n",
              "<table border=\"1\" class=\"dataframe\">\n",
              "  <thead>\n",
              "    <tr style=\"text-align: right;\">\n",
              "      <th></th>\n",
              "      <th>0</th>\n",
              "    </tr>\n",
              "  </thead>\n",
              "  <tbody>\n",
              "    <tr>\n",
              "      <th>SEASON_1</th>\n",
              "      <td>int16</td>\n",
              "    </tr>\n",
              "    <tr>\n",
              "      <th>SEASON_2</th>\n",
              "      <td>category</td>\n",
              "    </tr>\n",
              "    <tr>\n",
              "      <th>TEAM_ID</th>\n",
              "      <td>int32</td>\n",
              "    </tr>\n",
              "    <tr>\n",
              "      <th>TEAM_NAME</th>\n",
              "      <td>category</td>\n",
              "    </tr>\n",
              "    <tr>\n",
              "      <th>PLAYER_ID</th>\n",
              "      <td>int32</td>\n",
              "    </tr>\n",
              "    <tr>\n",
              "      <th>PLAYER_NAME</th>\n",
              "      <td>category</td>\n",
              "    </tr>\n",
              "    <tr>\n",
              "      <th>POSITION_GROUP</th>\n",
              "      <td>category</td>\n",
              "    </tr>\n",
              "    <tr>\n",
              "      <th>POSITION</th>\n",
              "      <td>category</td>\n",
              "    </tr>\n",
              "    <tr>\n",
              "      <th>GAME_DATE</th>\n",
              "      <td>category</td>\n",
              "    </tr>\n",
              "    <tr>\n",
              "      <th>GAME_ID</th>\n",
              "      <td>int32</td>\n",
              "    </tr>\n",
              "    <tr>\n",
              "      <th>HOME_TEAM</th>\n",
              "      <td>category</td>\n",
              "    </tr>\n",
              "    <tr>\n",
              "      <th>AWAY_TEAM</th>\n",
              "      <td>category</td>\n",
              "    </tr>\n",
              "    <tr>\n",
              "      <th>EVENT_TYPE</th>\n",
              "      <td>category</td>\n",
              "    </tr>\n",
              "    <tr>\n",
              "      <th>SHOT_MADE</th>\n",
              "      <td>bool</td>\n",
              "    </tr>\n",
              "    <tr>\n",
              "      <th>ACTION_TYPE</th>\n",
              "      <td>object</td>\n",
              "    </tr>\n",
              "    <tr>\n",
              "      <th>SHOT_TYPE</th>\n",
              "      <td>category</td>\n",
              "    </tr>\n",
              "    <tr>\n",
              "      <th>BASIC_ZONE</th>\n",
              "      <td>category</td>\n",
              "    </tr>\n",
              "    <tr>\n",
              "      <th>ZONE_NAME</th>\n",
              "      <td>category</td>\n",
              "    </tr>\n",
              "    <tr>\n",
              "      <th>ZONE_ABB</th>\n",
              "      <td>category</td>\n",
              "    </tr>\n",
              "    <tr>\n",
              "      <th>ZONE_RANGE</th>\n",
              "      <td>category</td>\n",
              "    </tr>\n",
              "    <tr>\n",
              "      <th>LOC_X</th>\n",
              "      <td>float32</td>\n",
              "    </tr>\n",
              "    <tr>\n",
              "      <th>LOC_Y</th>\n",
              "      <td>float32</td>\n",
              "    </tr>\n",
              "    <tr>\n",
              "      <th>SHOT_DISTANCE</th>\n",
              "      <td>int8</td>\n",
              "    </tr>\n",
              "    <tr>\n",
              "      <th>QUARTER</th>\n",
              "      <td>int8</td>\n",
              "    </tr>\n",
              "    <tr>\n",
              "      <th>MINS_LEFT</th>\n",
              "      <td>int8</td>\n",
              "    </tr>\n",
              "    <tr>\n",
              "      <th>SECS_LEFT</th>\n",
              "      <td>int8</td>\n",
              "    </tr>\n",
              "    <tr>\n",
              "      <th>SPD</th>\n",
              "      <td>float32</td>\n",
              "    </tr>\n",
              "    <tr>\n",
              "      <th>DIST</th>\n",
              "      <td>float32</td>\n",
              "    </tr>\n",
              "    <tr>\n",
              "      <th>ORBC</th>\n",
              "      <td>int8</td>\n",
              "    </tr>\n",
              "    <tr>\n",
              "      <th>DRBC</th>\n",
              "      <td>int8</td>\n",
              "    </tr>\n",
              "    <tr>\n",
              "      <th>RBC</th>\n",
              "      <td>int8</td>\n",
              "    </tr>\n",
              "    <tr>\n",
              "      <th>TCHS</th>\n",
              "      <td>int16</td>\n",
              "    </tr>\n",
              "    <tr>\n",
              "      <th>SAST</th>\n",
              "      <td>int8</td>\n",
              "    </tr>\n",
              "    <tr>\n",
              "      <th>PASS</th>\n",
              "      <td>int8</td>\n",
              "    </tr>\n",
              "    <tr>\n",
              "      <th>AST</th>\n",
              "      <td>int8</td>\n",
              "    </tr>\n",
              "    <tr>\n",
              "      <th>FGM</th>\n",
              "      <td>int16</td>\n",
              "    </tr>\n",
              "    <tr>\n",
              "      <th>FGA</th>\n",
              "      <td>int16</td>\n",
              "    </tr>\n",
              "    <tr>\n",
              "      <th>FG_PCT_y</th>\n",
              "      <td>float32</td>\n",
              "    </tr>\n",
              "    <tr>\n",
              "      <th>DFGM</th>\n",
              "      <td>int8</td>\n",
              "    </tr>\n",
              "    <tr>\n",
              "      <th>DFGA</th>\n",
              "      <td>int8</td>\n",
              "    </tr>\n",
              "    <tr>\n",
              "      <th>DFG_PCT</th>\n",
              "      <td>float32</td>\n",
              "    </tr>\n",
              "    <tr>\n",
              "      <th>SHOT_CLOCK_RANGE</th>\n",
              "      <td>category</td>\n",
              "    </tr>\n",
              "    <tr>\n",
              "      <th>SCORE</th>\n",
              "      <td>object</td>\n",
              "    </tr>\n",
              "    <tr>\n",
              "      <th>SCOREMARGIN</th>\n",
              "      <td>object</td>\n",
              "    </tr>\n",
              "    <tr>\n",
              "      <th>EFG_PCT</th>\n",
              "      <td>float32</td>\n",
              "    </tr>\n",
              "    <tr>\n",
              "      <th>PERSON1TYPE</th>\n",
              "      <td>float32</td>\n",
              "    </tr>\n",
              "    <tr>\n",
              "      <th>PERSON2TYPE</th>\n",
              "      <td>float32</td>\n",
              "    </tr>\n",
              "    <tr>\n",
              "      <th>PERSON3TYPE</th>\n",
              "      <td>float32</td>\n",
              "    </tr>\n",
              "  </tbody>\n",
              "</table>\n",
              "</div><br><label><b>dtype:</b> object</label>"
            ],
            "text/plain": [
              "SEASON_1            int16   \n",
              "SEASON_2            category\n",
              "TEAM_ID             int32   \n",
              "TEAM_NAME           category\n",
              "PLAYER_ID           int32   \n",
              "PLAYER_NAME         category\n",
              "POSITION_GROUP      category\n",
              "POSITION            category\n",
              "GAME_DATE           category\n",
              "GAME_ID             int32   \n",
              "HOME_TEAM           category\n",
              "AWAY_TEAM           category\n",
              "EVENT_TYPE          category\n",
              "SHOT_MADE           bool    \n",
              "ACTION_TYPE         object  \n",
              "SHOT_TYPE           category\n",
              "BASIC_ZONE          category\n",
              "ZONE_NAME           category\n",
              "ZONE_ABB            category\n",
              "ZONE_RANGE          category\n",
              "LOC_X               float32 \n",
              "LOC_Y               float32 \n",
              "SHOT_DISTANCE       int8    \n",
              "QUARTER             int8    \n",
              "MINS_LEFT           int8    \n",
              "SECS_LEFT           int8    \n",
              "SPD                 float32 \n",
              "DIST                float32 \n",
              "ORBC                int8    \n",
              "DRBC                int8    \n",
              "RBC                 int8    \n",
              "TCHS                int16   \n",
              "SAST                int8    \n",
              "PASS                int8    \n",
              "AST                 int8    \n",
              "FGM                 int16   \n",
              "FGA                 int16   \n",
              "FG_PCT_y            float32 \n",
              "DFGM                int8    \n",
              "DFGA                int8    \n",
              "DFG_PCT             float32 \n",
              "SHOT_CLOCK_RANGE    category\n",
              "SCORE               object  \n",
              "SCOREMARGIN         object  \n",
              "EFG_PCT             float32 \n",
              "PERSON1TYPE         float32 \n",
              "PERSON2TYPE         float32 \n",
              "PERSON3TYPE         float32 \n",
              "dtype: object"
            ]
          },
          "execution_count": 13,
          "metadata": {},
          "output_type": "execute_result"
        }
      ],
      "source": [
        "df.dtypes"
      ]
    },
    {
      "cell_type": "code",
      "execution_count": null,
      "metadata": {
        "id": "-yfhZDHuZYli"
      },
      "outputs": [],
      "source": [
        "text_columns = ['TEAM_NAME', 'PLAYER_NAME', 'POSITION_GROUP', 'POSITION',\n",
        "                'HOME_TEAM', 'AWAY_TEAM', 'ACTION_TYPE']\n",
        "\n",
        "for col in text_columns:\n",
        "    df[col] = df[col].str.strip().str.title()\n"
      ]
    },
    {
      "cell_type": "code",
      "execution_count": null,
      "metadata": {
        "id": "IdLanoZTfvlv"
      },
      "outputs": [],
      "source": [
        "continuous_columns = ['SPD', 'FG_PCT_y', 'DFG_PCT', 'EFG_PCT','LOC_X']\n",
        "\n",
        "scaler = StandardScaler()\n",
        "df[continuous_columns] = scaler.fit_transform(df[continuous_columns])\n"
      ]
    },
    {
      "cell_type": "code",
      "execution_count": null,
      "metadata": {
        "id": "u_SO_Jg9mU3i"
      },
      "outputs": [],
      "source": [
        "if 'SCORE' in df.columns:\n",
        "    score_split = df['SCORE'].str.split(' - ', expand=True)\n",
        "    df['SCORE_HOME'] = pd.to_numeric(score_split[0], errors='coerce')\n",
        "    df['SCORE_AWAY'] = pd.to_numeric(score_split[1], errors='coerce')\n",
        "    df.drop(columns=['SCORE'], inplace=True)"
      ]
    },
    {
      "cell_type": "code",
      "execution_count": null,
      "metadata": {
        "id": "wlwePaAnnAiQ"
      },
      "outputs": [],
      "source": [
        "\n",
        "df['SCOREMARGIN'] = pd.to_numeric(df['SCOREMARGIN'].replace('TIE', 0), errors='coerce')\n",
        "df['SEASON_1'] = df['SEASON_1'].astype('int16')\n",
        "df['TEAM_ID'] = df['TEAM_ID'].astype('int32')\n",
        "df['PLAYER_ID'] = df['PLAYER_ID'].astype('int32')\n",
        "df['GAME_ID'] = df['GAME_ID'].astype('int32')\n",
        "df['SHOT_DISTANCE'] = df['SHOT_DISTANCE'].astype('float32')\n",
        "df['SCOREMARGIN'] = df['SCOREMARGIN'].astype('float32')\n",
        "\n",
        "int_cols = df.select_dtypes(include=['int']).columns\n",
        "df[int_cols] = df[int_cols].apply(pd.to_numeric, downcast='integer')\n",
        "\n",
        "float_cols = df.select_dtypes(include=['float']).columns\n",
        "df[float_cols] = df[float_cols].apply(pd.to_numeric, downcast='float')\n"
      ]
    },
    {
      "cell_type": "code",
      "execution_count": null,
      "metadata": {
        "id": "Dinxw8Lgvjjd"
      },
      "outputs": [],
      "source": [
        "df.to_parquet('/content/drive/MyDrive/optimized_data.parquet', index=False, compression='gzip')\n"
      ]
    }
  ],
  "metadata": {
    "colab": {
      "machine_shape": "hm",
      "provenance": [],
      "authorship_tag": "ABX9TyPVYAvxmjPpcA0zzVYJ4ark",
      "include_colab_link": true
    },
    "kernelspec": {
      "display_name": "Python 3",
      "name": "python3"
    },
    "language_info": {
      "name": "python"
    }
  },
  "nbformat": 4,
  "nbformat_minor": 0
}